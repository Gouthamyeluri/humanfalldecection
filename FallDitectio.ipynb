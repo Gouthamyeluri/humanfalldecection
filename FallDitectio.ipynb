{
  "nbformat": 4,
  "nbformat_minor": 0,
  "metadata": {
    "colab": {
      "name": "FallDitectio.ipynb",
      "provenance": [],
      "collapsed_sections": [],
      "toc_visible": true,
      "include_colab_link": true
    },
    "kernelspec": {
      "name": "python3",
      "display_name": "Python 3"
    },
    "accelerator": "GPU"
  },
  "cells": [
    {
      "cell_type": "markdown",
      "metadata": {
        "id": "view-in-github",
        "colab_type": "text"
      },
      "source": [
        "<a href=\"https://colab.research.google.com/github/Gouthamyeluri/humanfalldecection/blob/main/FallDitectio.ipynb\" target=\"_parent\"><img src=\"https://colab.research.google.com/assets/colab-badge.svg\" alt=\"Open In Colab\"/></a>"
      ]
    },
    {
      "cell_type": "code",
      "metadata": {
        "id": "lUGGFVeqYIew"
      },
      "source": [
        "import torchvision.models as models\n"
      ],
      "execution_count": null,
      "outputs": []
    },
    {
      "cell_type": "code",
      "metadata": {
        "id": "8Ak0SX_01ffE"
      },
      "source": [
        "import os\n",
        "import zipfile\n",
        "import cv2\n",
        "import matplotlib.pyplot as plt\n",
        "import pandas as pd\n",
        "from fastprogress import progress_bar\n",
        "%matplotlib inline\n",
        "import shutil"
      ],
      "execution_count": null,
      "outputs": []
    },
    {
      "cell_type": "code",
      "metadata": {
        "id": "wv9kmW543N03",
        "colab": {
          "base_uri": "https://localhost:8080/",
          "height": 122
        },
        "outputId": "cd11fba5-e80c-4cbe-b85b-0205e95cf07a"
      },
      "source": [
        "from google.colab import drive\n",
        "drive.mount('/content/drive')"
      ],
      "execution_count": null,
      "outputs": [
        {
          "output_type": "stream",
          "text": [
            "Go to this URL in a browser: https://accounts.google.com/o/oauth2/auth?client_id=947318989803-6bn6qk8qdgf4n4g3pfee6491hc0brc4i.apps.googleusercontent.com&redirect_uri=urn%3aietf%3awg%3aoauth%3a2.0%3aoob&response_type=code&scope=email%20https%3a%2f%2fwww.googleapis.com%2fauth%2fdocs.test%20https%3a%2f%2fwww.googleapis.com%2fauth%2fdrive%20https%3a%2f%2fwww.googleapis.com%2fauth%2fdrive.photos.readonly%20https%3a%2f%2fwww.googleapis.com%2fauth%2fpeopleapi.readonly\n",
            "\n",
            "Enter your authorization code:\n",
            "··········\n",
            "Mounted at /content/drive\n"
          ],
          "name": "stdout"
        }
      ]
    },
    {
      "cell_type": "code",
      "metadata": {
        "id": "UXNPH2fz1swL"
      },
      "source": [
        "%%bash\n",
        "for i in {1,3,4,10}; do \\\n",
        "    cp -r /content/drive/My\\ Drive/unzip/Camera2_training_competition/Subject$i ./\n",
        "done"
      ],
      "execution_count": null,
      "outputs": []
    },
    {
      "cell_type": "code",
      "metadata": {
        "id": "0tnj65Mq0QwJ"
      },
      "source": [
        "!cp /content/drive/My\\ Drive/unzip/CompleteDataSet_training_competition.csv ./"
      ],
      "execution_count": null,
      "outputs": []
    },
    {
      "cell_type": "code",
      "metadata": {
        "id": "-oVEJdfg6YTw"
      },
      "source": [
        "sensor_data=pd.read_csv(\"/content/CompleteDataSet_training_competition.csv\")\n",
        "\n"
      ],
      "execution_count": null,
      "outputs": []
    },
    {
      "cell_type": "code",
      "metadata": {
        "id": "tjplq_Ve38UC",
        "colab": {
          "base_uri": "https://localhost:8080/",
          "height": 326
        },
        "outputId": "7135373c-01d1-4ddd-f670-802f699fa7ea"
      },
      "source": [
        "sensor_data.head()"
      ],
      "execution_count": null,
      "outputs": [
        {
          "output_type": "execute_result",
          "data": {
            "text/html": [
              "<div>\n",
              "<style scoped>\n",
              "    .dataframe tbody tr th:only-of-type {\n",
              "        vertical-align: middle;\n",
              "    }\n",
              "\n",
              "    .dataframe tbody tr th {\n",
              "        vertical-align: top;\n",
              "    }\n",
              "\n",
              "    .dataframe thead th {\n",
              "        text-align: right;\n",
              "    }\n",
              "</style>\n",
              "<table border=\"1\" class=\"dataframe\">\n",
              "  <thead>\n",
              "    <tr style=\"text-align: right;\">\n",
              "      <th></th>\n",
              "      <th>TimeStamps</th>\n",
              "      <th>AnkleAccelerometer x-axis</th>\n",
              "      <th>AnkleAccelerometer y-axis</th>\n",
              "      <th>AnkleAccelerometer z-axis</th>\n",
              "      <th>AnkleAngularVelocity x-axis</th>\n",
              "      <th>AnkleAngularVelocity y-axis</th>\n",
              "      <th>AnkleAngularVelocity z-axis</th>\n",
              "      <th>AnkleLuminosity illuminance</th>\n",
              "      <th>RightPocketAccelerometer x-axis</th>\n",
              "      <th>RightPocketAccelerometer y-axis</th>\n",
              "      <th>RightPocketAccelerometer z-axis</th>\n",
              "      <th>RightPocketAngularVelocity x-axis</th>\n",
              "      <th>RightPocketAngularVelocity y-axis</th>\n",
              "      <th>RightPocketAngularVelocity z-axis</th>\n",
              "      <th>RightPocketLuminosity illuminance</th>\n",
              "      <th>BeltAccelerometer x-axis</th>\n",
              "      <th>BeltAccelerometer y-axis</th>\n",
              "      <th>BeltAccelerometer z-axis</th>\n",
              "      <th>BeltAngularVelocity x-axis</th>\n",
              "      <th>BeltAngularVelocity y-axis</th>\n",
              "      <th>BeltAngularVelocity z-axis</th>\n",
              "      <th>BeltLuminosity illuminance</th>\n",
              "      <th>NeckAccelerometer x-axis</th>\n",
              "      <th>NeckAccelerometer y-axis</th>\n",
              "      <th>NeckAccelerometer z-axis</th>\n",
              "      <th>NeckAngularVelocity x-axis</th>\n",
              "      <th>NeckAngularVelocity y-axis</th>\n",
              "      <th>NeckAngularVelocity z-axis</th>\n",
              "      <th>NeckLuminosity illuminance</th>\n",
              "      <th>WristAccelerometer x-axis</th>\n",
              "      <th>WristAccelerometer y-axis</th>\n",
              "      <th>WristAccelerometer z-axis</th>\n",
              "      <th>WristAngularVelocity x-axis</th>\n",
              "      <th>WristAngularVelocity y-axis</th>\n",
              "      <th>WristAngularVelocity z-axis</th>\n",
              "      <th>WristLuminosity illuminance</th>\n",
              "      <th>BrainSensor</th>\n",
              "      <th>Infrared1</th>\n",
              "      <th>Infrared2</th>\n",
              "      <th>Infrared3</th>\n",
              "      <th>Infrared4</th>\n",
              "      <th>Infrared5</th>\n",
              "      <th>Infrared6</th>\n",
              "      <th>Subject</th>\n",
              "      <th>Trial</th>\n",
              "      <th>Activity</th>\n",
              "      <th>Tag</th>\n",
              "    </tr>\n",
              "  </thead>\n",
              "  <tbody>\n",
              "    <tr>\n",
              "      <th>0</th>\n",
              "      <td>2018-07-04T12:04:17.738369</td>\n",
              "      <td>-1.005</td>\n",
              "      <td>0.229</td>\n",
              "      <td>-0.083</td>\n",
              "      <td>-0.671</td>\n",
              "      <td>0.488</td>\n",
              "      <td>-2.683</td>\n",
              "      <td>0.0</td>\n",
              "      <td>-0.981</td>\n",
              "      <td>0.260</td>\n",
              "      <td>0.098</td>\n",
              "      <td>1.768</td>\n",
              "      <td>-1.890</td>\n",
              "      <td>0.732</td>\n",
              "      <td>0.0</td>\n",
              "      <td>0.146</td>\n",
              "      <td>0.895</td>\n",
              "      <td>0.367</td>\n",
              "      <td>-1.463</td>\n",
              "      <td>-3.841</td>\n",
              "      <td>-2.622</td>\n",
              "      <td>392.633</td>\n",
              "      <td>-0.672</td>\n",
              "      <td>0.072</td>\n",
              "      <td>-0.815</td>\n",
              "      <td>-3.293</td>\n",
              "      <td>-7.805</td>\n",
              "      <td>9.207</td>\n",
              "      <td>1231.336</td>\n",
              "      <td>-1.240</td>\n",
              "      <td>-0.557</td>\n",
              "      <td>0.227</td>\n",
              "      <td>-75.854</td>\n",
              "      <td>44.024</td>\n",
              "      <td>315.915</td>\n",
              "      <td>2108.154</td>\n",
              "      <td>45</td>\n",
              "      <td>1</td>\n",
              "      <td>1</td>\n",
              "      <td>1</td>\n",
              "      <td>1</td>\n",
              "      <td>1</td>\n",
              "      <td>1</td>\n",
              "      <td>1</td>\n",
              "      <td>1</td>\n",
              "      <td>1</td>\n",
              "      <td>7</td>\n",
              "    </tr>\n",
              "    <tr>\n",
              "      <th>1</th>\n",
              "      <td>2018-07-04T12:04:17.790509</td>\n",
              "      <td>-1.005</td>\n",
              "      <td>0.228</td>\n",
              "      <td>-0.082</td>\n",
              "      <td>-3.415</td>\n",
              "      <td>-0.549</td>\n",
              "      <td>0.122</td>\n",
              "      <td>0.0</td>\n",
              "      <td>-0.981</td>\n",
              "      <td>0.260</td>\n",
              "      <td>0.098</td>\n",
              "      <td>3.354</td>\n",
              "      <td>-2.500</td>\n",
              "      <td>-0.061</td>\n",
              "      <td>0.0</td>\n",
              "      <td>0.146</td>\n",
              "      <td>0.895</td>\n",
              "      <td>0.367</td>\n",
              "      <td>1.037</td>\n",
              "      <td>-4.024</td>\n",
              "      <td>-1.768</td>\n",
              "      <td>392.633</td>\n",
              "      <td>-0.672</td>\n",
              "      <td>0.072</td>\n",
              "      <td>-0.815</td>\n",
              "      <td>-9.756</td>\n",
              "      <td>-8.049</td>\n",
              "      <td>5.122</td>\n",
              "      <td>1231.336</td>\n",
              "      <td>-1.240</td>\n",
              "      <td>-0.557</td>\n",
              "      <td>0.227</td>\n",
              "      <td>-28.780</td>\n",
              "      <td>55.549</td>\n",
              "      <td>344.146</td>\n",
              "      <td>2108.154</td>\n",
              "      <td>1</td>\n",
              "      <td>1</td>\n",
              "      <td>1</td>\n",
              "      <td>1</td>\n",
              "      <td>1</td>\n",
              "      <td>1</td>\n",
              "      <td>1</td>\n",
              "      <td>1</td>\n",
              "      <td>1</td>\n",
              "      <td>1</td>\n",
              "      <td>7</td>\n",
              "    </tr>\n",
              "    <tr>\n",
              "      <th>2</th>\n",
              "      <td>2018-07-04T12:04:17.836632</td>\n",
              "      <td>-1.005</td>\n",
              "      <td>0.231</td>\n",
              "      <td>-0.079</td>\n",
              "      <td>-2.622</td>\n",
              "      <td>-1.402</td>\n",
              "      <td>-0.549</td>\n",
              "      <td>0.0</td>\n",
              "      <td>-0.975</td>\n",
              "      <td>0.282</td>\n",
              "      <td>0.091</td>\n",
              "      <td>3.720</td>\n",
              "      <td>-2.500</td>\n",
              "      <td>-0.793</td>\n",
              "      <td>0.0</td>\n",
              "      <td>0.178</td>\n",
              "      <td>0.896</td>\n",
              "      <td>0.373</td>\n",
              "      <td>0.366</td>\n",
              "      <td>-2.500</td>\n",
              "      <td>-0.488</td>\n",
              "      <td>392.633</td>\n",
              "      <td>-0.705</td>\n",
              "      <td>0.084</td>\n",
              "      <td>-0.779</td>\n",
              "      <td>-17.866</td>\n",
              "      <td>-18.354</td>\n",
              "      <td>4.329</td>\n",
              "      <td>1231.336</td>\n",
              "      <td>-1.884</td>\n",
              "      <td>-0.687</td>\n",
              "      <td>0.251</td>\n",
              "      <td>27.256</td>\n",
              "      <td>87.134</td>\n",
              "      <td>372.012</td>\n",
              "      <td>2108.154</td>\n",
              "      <td>325</td>\n",
              "      <td>1</td>\n",
              "      <td>1</td>\n",
              "      <td>1</td>\n",
              "      <td>1</td>\n",
              "      <td>1</td>\n",
              "      <td>1</td>\n",
              "      <td>1</td>\n",
              "      <td>1</td>\n",
              "      <td>1</td>\n",
              "      <td>7</td>\n",
              "    </tr>\n",
              "    <tr>\n",
              "      <th>3</th>\n",
              "      <td>2018-07-04T12:04:17.885262</td>\n",
              "      <td>-1.005</td>\n",
              "      <td>0.231</td>\n",
              "      <td>-0.079</td>\n",
              "      <td>-2.561</td>\n",
              "      <td>-2.195</td>\n",
              "      <td>-1.220</td>\n",
              "      <td>0.0</td>\n",
              "      <td>-0.973</td>\n",
              "      <td>0.301</td>\n",
              "      <td>0.103</td>\n",
              "      <td>-1.951</td>\n",
              "      <td>-1.159</td>\n",
              "      <td>-1.280</td>\n",
              "      <td>0.0</td>\n",
              "      <td>0.160</td>\n",
              "      <td>0.895</td>\n",
              "      <td>0.372</td>\n",
              "      <td>0.854</td>\n",
              "      <td>1.951</td>\n",
              "      <td>1.585</td>\n",
              "      <td>392.633</td>\n",
              "      <td>-0.727</td>\n",
              "      <td>0.095</td>\n",
              "      <td>-0.758</td>\n",
              "      <td>-18.537</td>\n",
              "      <td>-10.061</td>\n",
              "      <td>0.366</td>\n",
              "      <td>1231.336</td>\n",
              "      <td>-1.884</td>\n",
              "      <td>-0.687</td>\n",
              "      <td>0.251</td>\n",
              "      <td>2.866</td>\n",
              "      <td>117.683</td>\n",
              "      <td>356.463</td>\n",
              "      <td>2108.154</td>\n",
              "      <td>396</td>\n",
              "      <td>1</td>\n",
              "      <td>1</td>\n",
              "      <td>1</td>\n",
              "      <td>1</td>\n",
              "      <td>1</td>\n",
              "      <td>1</td>\n",
              "      <td>1</td>\n",
              "      <td>1</td>\n",
              "      <td>1</td>\n",
              "      <td>7</td>\n",
              "    </tr>\n",
              "    <tr>\n",
              "      <th>4</th>\n",
              "      <td>2018-07-04T12:04:17.945423</td>\n",
              "      <td>-1.008</td>\n",
              "      <td>0.229</td>\n",
              "      <td>-0.072</td>\n",
              "      <td>-3.537</td>\n",
              "      <td>-2.073</td>\n",
              "      <td>-0.305</td>\n",
              "      <td>0.0</td>\n",
              "      <td>-0.973</td>\n",
              "      <td>0.301</td>\n",
              "      <td>0.103</td>\n",
              "      <td>-5.366</td>\n",
              "      <td>-1.280</td>\n",
              "      <td>-0.732</td>\n",
              "      <td>0.0</td>\n",
              "      <td>0.160</td>\n",
              "      <td>0.895</td>\n",
              "      <td>0.372</td>\n",
              "      <td>2.012</td>\n",
              "      <td>4.634</td>\n",
              "      <td>3.354</td>\n",
              "      <td>392.633</td>\n",
              "      <td>-0.727</td>\n",
              "      <td>0.095</td>\n",
              "      <td>-0.758</td>\n",
              "      <td>4.878</td>\n",
              "      <td>2.866</td>\n",
              "      <td>-3.232</td>\n",
              "      <td>1231.336</td>\n",
              "      <td>-1.597</td>\n",
              "      <td>-0.646</td>\n",
              "      <td>0.112</td>\n",
              "      <td>10.000</td>\n",
              "      <td>30.671</td>\n",
              "      <td>126.768</td>\n",
              "      <td>2108.154</td>\n",
              "      <td>-436</td>\n",
              "      <td>1</td>\n",
              "      <td>1</td>\n",
              "      <td>1</td>\n",
              "      <td>1</td>\n",
              "      <td>1</td>\n",
              "      <td>1</td>\n",
              "      <td>1</td>\n",
              "      <td>1</td>\n",
              "      <td>1</td>\n",
              "      <td>7</td>\n",
              "    </tr>\n",
              "  </tbody>\n",
              "</table>\n",
              "</div>"
            ],
            "text/plain": [
              "                   TimeStamps  AnkleAccelerometer x-axis  ...  Activity  Tag\n",
              "0  2018-07-04T12:04:17.738369                     -1.005  ...         1    7\n",
              "1  2018-07-04T12:04:17.790509                     -1.005  ...         1    7\n",
              "2  2018-07-04T12:04:17.836632                     -1.005  ...         1    7\n",
              "3  2018-07-04T12:04:17.885262                     -1.005  ...         1    7\n",
              "4  2018-07-04T12:04:17.945423                     -1.008  ...         1    7\n",
              "\n",
              "[5 rows x 47 columns]"
            ]
          },
          "metadata": {
            "tags": []
          },
          "execution_count": 7
        }
      ]
    },
    {
      "cell_type": "code",
      "metadata": {
        "id": "HNpPqY1qX6kC",
        "colab": {
          "base_uri": "https://localhost:8080/",
          "height": 34
        },
        "outputId": "341abe53-d223-4d89-9f8f-b6922f01d063"
      },
      "source": [
        "assert sensor_data.TimeStamps.nunique()==sensor_data.shape[0]\n",
        "sensor_data.shape"
      ],
      "execution_count": null,
      "outputs": [
        {
          "output_type": "execute_result",
          "data": {
            "text/plain": [
              "(160736, 47)"
            ]
          },
          "metadata": {
            "tags": []
          },
          "execution_count": 8
        }
      ]
    },
    {
      "cell_type": "code",
      "metadata": {
        "id": "ZTylV7bpX7hD"
      },
      "source": [
        "!mkdir data\n",
        "!mkdir data/train\n",
        "!mkdir data/test"
      ],
      "execution_count": null,
      "outputs": []
    },
    {
      "cell_type": "code",
      "metadata": {
        "id": "QTCD68m7YGJP"
      },
      "source": [
        "def unzip(subject,activity,trail,is_train_subject):\n",
        "  extract_dir=f\"data/train/\"+activity\n",
        "  if not is_train_subject:\n",
        "    extract_dir=f\"data/test/\"+activity\n",
        "  if not os.path.exists(extract_dir):\n",
        "    os.mkdir(extract_dir)\n",
        "  with zipfile.ZipFile(f\"{subject}/{activity}/{trail}\",\"r\") as zip_ref:\n",
        "      zip_ref.extractall(extract_dir)"
      ],
      "execution_count": null,
      "outputs": []
    },
    {
      "cell_type": "code",
      "metadata": {
        "id": "w2M3692GYGei"
      },
      "source": [
        "subject_file_paths=['Subject1','Subject3','Subject4','Subject10']\n",
        "subject_mode={'Subject1':True,'Subject3':True,'Subject4':True,'Subject10':False}"
      ],
      "execution_count": null,
      "outputs": []
    },
    {
      "cell_type": "code",
      "metadata": {
        "id": "YSk9VNDzYGoJ",
        "colab": {
          "base_uri": "https://localhost:8080/",
          "height": 151
        },
        "outputId": "d5738ce6-8214-4fcb-e185-3d6f738ebaab"
      },
      "source": [
        "%%time\n",
        "for subject in progress_bar(subject_file_paths):\n",
        "  for activity in progress_bar(os.listdir(subject)):\n",
        "    for trail in os.listdir(f\"{subject}/{activity}\"):unzip(subject,activity,trail,subject_mode[subject])"
      ],
      "execution_count": null,
      "outputs": [
        {
          "output_type": "display_data",
          "data": {
            "text/html": [
              "\n",
              "    <div>\n",
              "        <style>\n",
              "            /* Turns off some styling */\n",
              "            progress {\n",
              "                /* gets rid of default border in Firefox and Opera. */\n",
              "                border: none;\n",
              "                /* Needs to be in here for Safari polyfill so background images work as expected. */\n",
              "                background-size: auto;\n",
              "            }\n",
              "            .progress-bar-interrupted, .progress-bar-interrupted::-webkit-progress-bar {\n",
              "                background: #F44336;\n",
              "            }\n",
              "        </style>\n",
              "      <progress value='4' class='' max='4', style='width:300px; height:20px; vertical-align: middle;'></progress>\n",
              "      100.00% [4/4 04:09<00:00]\n",
              "    </div>\n",
              "    "
            ],
            "text/plain": [
              "<IPython.core.display.HTML object>"
            ]
          },
          "metadata": {
            "tags": []
          }
        },
        {
          "output_type": "display_data",
          "data": {
            "text/html": [
              "\n",
              "    <div>\n",
              "        <style>\n",
              "            /* Turns off some styling */\n",
              "            progress {\n",
              "                /* gets rid of default border in Firefox and Opera. */\n",
              "                border: none;\n",
              "                /* Needs to be in here for Safari polyfill so background images work as expected. */\n",
              "                background-size: auto;\n",
              "            }\n",
              "            .progress-bar-interrupted, .progress-bar-interrupted::-webkit-progress-bar {\n",
              "                background: #F44336;\n",
              "            }\n",
              "        </style>\n",
              "      <progress value='11' class='' max='11', style='width:300px; height:20px; vertical-align: middle;'></progress>\n",
              "      100.00% [11/11 01:01<00:00]\n",
              "    </div>\n",
              "    "
            ],
            "text/plain": [
              "<IPython.core.display.HTML object>"
            ]
          },
          "metadata": {
            "tags": []
          }
        },
        {
          "output_type": "display_data",
          "data": {
            "text/html": [
              "\n",
              "    <div>\n",
              "        <style>\n",
              "            /* Turns off some styling */\n",
              "            progress {\n",
              "                /* gets rid of default border in Firefox and Opera. */\n",
              "                border: none;\n",
              "                /* Needs to be in here for Safari polyfill so background images work as expected. */\n",
              "                background-size: auto;\n",
              "            }\n",
              "            .progress-bar-interrupted, .progress-bar-interrupted::-webkit-progress-bar {\n",
              "                background: #F44336;\n",
              "            }\n",
              "        </style>\n",
              "      <progress value='11' class='' max='11', style='width:300px; height:20px; vertical-align: middle;'></progress>\n",
              "      100.00% [11/11 01:02<00:00]\n",
              "    </div>\n",
              "    "
            ],
            "text/plain": [
              "<IPython.core.display.HTML object>"
            ]
          },
          "metadata": {
            "tags": []
          }
        },
        {
          "output_type": "display_data",
          "data": {
            "text/html": [
              "\n",
              "    <div>\n",
              "        <style>\n",
              "            /* Turns off some styling */\n",
              "            progress {\n",
              "                /* gets rid of default border in Firefox and Opera. */\n",
              "                border: none;\n",
              "                /* Needs to be in here for Safari polyfill so background images work as expected. */\n",
              "                background-size: auto;\n",
              "            }\n",
              "            .progress-bar-interrupted, .progress-bar-interrupted::-webkit-progress-bar {\n",
              "                background: #F44336;\n",
              "            }\n",
              "        </style>\n",
              "      <progress value='11' class='' max='11', style='width:300px; height:20px; vertical-align: middle;'></progress>\n",
              "      100.00% [11/11 01:02<00:00]\n",
              "    </div>\n",
              "    "
            ],
            "text/plain": [
              "<IPython.core.display.HTML object>"
            ]
          },
          "metadata": {
            "tags": []
          }
        },
        {
          "output_type": "display_data",
          "data": {
            "text/html": [
              "\n",
              "    <div>\n",
              "        <style>\n",
              "            /* Turns off some styling */\n",
              "            progress {\n",
              "                /* gets rid of default border in Firefox and Opera. */\n",
              "                border: none;\n",
              "                /* Needs to be in here for Safari polyfill so background images work as expected. */\n",
              "                background-size: auto;\n",
              "            }\n",
              "            .progress-bar-interrupted, .progress-bar-interrupted::-webkit-progress-bar {\n",
              "                background: #F44336;\n",
              "            }\n",
              "        </style>\n",
              "      <progress value='11' class='' max='11', style='width:300px; height:20px; vertical-align: middle;'></progress>\n",
              "      100.00% [11/11 01:02<00:00]\n",
              "    </div>\n",
              "    "
            ],
            "text/plain": [
              "<IPython.core.display.HTML object>"
            ]
          },
          "metadata": {
            "tags": []
          }
        },
        {
          "output_type": "stream",
          "text": [
            "CPU times: user 1min 44s, sys: 1min 2s, total: 2min 47s\n",
            "Wall time: 4min 9s\n"
          ],
          "name": "stdout"
        }
      ]
    },
    {
      "cell_type": "code",
      "metadata": {
        "id": "cB3qsJEkYG6u"
      },
      "source": [
        "def clean_directories__get_png_files(path):\n",
        "  image_names=[]\n",
        "  for activity in progress_bar(os.listdir(path)):\n",
        "    for file_ in os.listdir(f\"{path}/{activity}\"):\n",
        "      fp=f\"{path}/{activity}/{file_}\"\n",
        "      if os.path.isdir(fp):\n",
        "        print(f\"deleting {fp}\")\n",
        "        shutil.rmtree(fp)\n",
        "      else: image_names.append(file_)\n",
        "  return image_names "
      ],
      "execution_count": null,
      "outputs": []
    },
    {
      "cell_type": "code",
      "metadata": {
        "id": "XenXaGflYG2T",
        "colab": {
          "base_uri": "https://localhost:8080/",
          "height": 54
        },
        "outputId": "828bbb7f-b36d-410c-ad91-c3803eff539c"
      },
      "source": [
        "train_image_names=clean_directories__get_png_files(\"data/train\")"
      ],
      "execution_count": null,
      "outputs": [
        {
          "output_type": "display_data",
          "data": {
            "text/html": [
              "\n",
              "    <div>\n",
              "        <style>\n",
              "            /* Turns off some styling */\n",
              "            progress {\n",
              "                /* gets rid of default border in Firefox and Opera. */\n",
              "                border: none;\n",
              "                /* Needs to be in here for Safari polyfill so background images work as expected. */\n",
              "                background-size: auto;\n",
              "            }\n",
              "            .progress-bar-interrupted, .progress-bar-interrupted::-webkit-progress-bar {\n",
              "                background: #F44336;\n",
              "            }\n",
              "        </style>\n",
              "      <progress value='11' class='' max='11', style='width:300px; height:20px; vertical-align: middle;'></progress>\n",
              "      100.00% [11/11 00:01<00:00]\n",
              "    </div>\n",
              "    "
            ],
            "text/plain": [
              "<IPython.core.display.HTML object>"
            ]
          },
          "metadata": {
            "tags": []
          }
        },
        {
          "output_type": "stream",
          "text": [
            "deleting data/train/Activity1/Subject4Activity1Trial1Camera2Synced\n"
          ],
          "name": "stdout"
        }
      ]
    },
    {
      "cell_type": "code",
      "metadata": {
        "id": "HxRNaCMcYG0D",
        "colab": {
          "base_uri": "https://localhost:8080/",
          "height": 37
        },
        "outputId": "9c711b6d-b3c3-4545-c08e-a3c306a4f357"
      },
      "source": [
        "test_image_names=clean_directories__get_png_files(\"data/test\")"
      ],
      "execution_count": null,
      "outputs": [
        {
          "output_type": "display_data",
          "data": {
            "text/html": [
              "\n",
              "    <div>\n",
              "        <style>\n",
              "            /* Turns off some styling */\n",
              "            progress {\n",
              "                /* gets rid of default border in Firefox and Opera. */\n",
              "                border: none;\n",
              "                /* Needs to be in here for Safari polyfill so background images work as expected. */\n",
              "                background-size: auto;\n",
              "            }\n",
              "            .progress-bar-interrupted, .progress-bar-interrupted::-webkit-progress-bar {\n",
              "                background: #F44336;\n",
              "            }\n",
              "        </style>\n",
              "      <progress value='11' class='' max='11', style='width:300px; height:20px; vertical-align: middle;'></progress>\n",
              "      100.00% [11/11 00:00<00:00]\n",
              "    </div>\n",
              "    "
            ],
            "text/plain": [
              "<IPython.core.display.HTML object>"
            ]
          },
          "metadata": {
            "tags": []
          }
        }
      ]
    },
    {
      "cell_type": "code",
      "metadata": {
        "id": "E1uWyB0OYGxr"
      },
      "source": [
        "from __future__ import print_function, division\n",
        "import os\n",
        "import torch\n",
        "import pandas as pd\n",
        "from skimage import io, transform\n",
        "import numpy as np\n",
        "import matplotlib.pyplot as plt\n",
        "from torch.utils.data import Dataset, DataLoader\n",
        "from torchvision import transforms, utils"
      ],
      "execution_count": null,
      "outputs": []
    },
    {
      "cell_type": "code",
      "metadata": {
        "id": "-RM_MlT6YGvN"
      },
      "source": [
        "sensor_data_sliced=sensor_data[sensor_data.Subject.isin([1,3,4,10])]"
      ],
      "execution_count": null,
      "outputs": []
    },
    {
      "cell_type": "code",
      "metadata": {
        "id": "rr9K8Xl_YGsc"
      },
      "source": [
        "to_keep_columns=['TimeStamps', 'AnkleAccelerometer x-axis', 'AnkleAccelerometer y-axis',\n",
        "       'AnkleAccelerometer z-axis', 'AnkleAngularVelocity x-axis ',\n",
        "       'AnkleAngularVelocity y-axis ', 'AnkleAngularVelocity z-axis ',\n",
        "        'RightPocketAccelerometer x-axis ',\n",
        "       'RightPocketAccelerometer y-axis ', 'RightPocketAccelerometer z-axis ',\n",
        "       'RightPocketAngularVelocity x-axis',\n",
        "       'RightPocketAngularVelocity y-axis',\n",
        "       'RightPocketAngularVelocity z-axis',\n",
        "       'BeltAccelerometer x-axis',\n",
        "       'BeltAccelerometer y-axis', 'BeltAccelerometer z-axis',\n",
        "       'BeltAngularVelocity x-axis', 'BeltAngularVelocity y-axis',\n",
        "       'BeltAngularVelocity z-axis',\n",
        "       'NeckAccelerometer x-axis', 'NeckAccelerometer y-axis',\n",
        "       'NeckAccelerometer z-axis', 'NeckAngularVelocity x-axis',\n",
        "       'NeckAngularVelocity y-axis', 'NeckAngularVelocity z-axis',\n",
        "      'WristAccelerometer x-axis',\n",
        "       'WristAccelerometer y-axis', 'WristAccelerometer z-axis',\n",
        "       'WristAngularVelocity x-axis', 'WristAngularVelocity y-axis',\n",
        "       'WristAngularVelocity z-axis',\"Tag\",\"Activity\",'Subject']"
      ],
      "execution_count": null,
      "outputs": []
    },
    {
      "cell_type": "code",
      "metadata": {
        "id": "ynrwjgL7jHWv"
      },
      "source": [
        "features=to_keep_columns[1:-3]"
      ],
      "execution_count": null,
      "outputs": []
    },
    {
      "cell_type": "code",
      "metadata": {
        "id": "S90OaWCPjLX0",
        "colab": {
          "base_uri": "https://localhost:8080/",
          "height": 527
        },
        "outputId": "2be3ad8f-3d45-414c-dda5-4215a1ef46d7"
      },
      "source": [
        "features"
      ],
      "execution_count": null,
      "outputs": [
        {
          "output_type": "execute_result",
          "data": {
            "text/plain": [
              "['AnkleAccelerometer x-axis',\n",
              " 'AnkleAccelerometer y-axis',\n",
              " 'AnkleAccelerometer z-axis',\n",
              " 'AnkleAngularVelocity x-axis ',\n",
              " 'AnkleAngularVelocity y-axis ',\n",
              " 'AnkleAngularVelocity z-axis ',\n",
              " 'RightPocketAccelerometer x-axis ',\n",
              " 'RightPocketAccelerometer y-axis ',\n",
              " 'RightPocketAccelerometer z-axis ',\n",
              " 'RightPocketAngularVelocity x-axis',\n",
              " 'RightPocketAngularVelocity y-axis',\n",
              " 'RightPocketAngularVelocity z-axis',\n",
              " 'BeltAccelerometer x-axis',\n",
              " 'BeltAccelerometer y-axis',\n",
              " 'BeltAccelerometer z-axis',\n",
              " 'BeltAngularVelocity x-axis',\n",
              " 'BeltAngularVelocity y-axis',\n",
              " 'BeltAngularVelocity z-axis',\n",
              " 'NeckAccelerometer x-axis',\n",
              " 'NeckAccelerometer y-axis',\n",
              " 'NeckAccelerometer z-axis',\n",
              " 'NeckAngularVelocity x-axis',\n",
              " 'NeckAngularVelocity y-axis',\n",
              " 'NeckAngularVelocity z-axis',\n",
              " 'WristAccelerometer x-axis',\n",
              " 'WristAccelerometer y-axis',\n",
              " 'WristAccelerometer z-axis',\n",
              " 'WristAngularVelocity x-axis',\n",
              " 'WristAngularVelocity y-axis',\n",
              " 'WristAngularVelocity z-axis']"
            ]
          },
          "metadata": {
            "tags": []
          },
          "execution_count": 20
        }
      ]
    },
    {
      "cell_type": "code",
      "metadata": {
        "id": "fdICA76ejPBi"
      },
      "source": [
        "sliced_csv=sensor_data_sliced[to_keep_columns]"
      ],
      "execution_count": null,
      "outputs": []
    },
    {
      "cell_type": "code",
      "metadata": {
        "id": "WlU565HRjZ5Z"
      },
      "source": [
        "train_csv=sliced_csv[sliced_csv.Subject.isin([1,3,4])]\n",
        "test_csv=sliced_csv[sliced_csv.Subject==10]"
      ],
      "execution_count": null,
      "outputs": []
    },
    {
      "cell_type": "code",
      "metadata": {
        "id": "0T1tIg-xjc8e"
      },
      "source": [
        "def map_and_drop_missing_data(image_files,csv):\n",
        "  print(\"Images from cam\",len(image_files))\n",
        "  print(\"sensor data\",csv.shape)\n",
        "  image_ids=[val[:-4] for val in image_files]\n",
        "\n",
        "  csv_ids=csv.TimeStamps.values\n",
        "  image_compatible_csv_ids=[val.replace(':','_') for val in csv_ids]\n",
        "\n",
        "  to_conider_image_files=set(image_ids).intersection(image_compatible_csv_ids)\n",
        "  remapped_csv_ids=[val.replace('_',':') for val in image_compatible_csv_ids]\n",
        "  print(\"final images\",len(remapped_csv_ids))\n",
        "  return csv[csv.TimeStamps.isin(remapped_csv_ids)]"
      ],
      "execution_count": null,
      "outputs": []
    },
    {
      "cell_type": "code",
      "metadata": {
        "id": "cx-GQtO1jgt5",
        "colab": {
          "base_uri": "https://localhost:8080/",
          "height": 68
        },
        "outputId": "22ee4b6d-e2c9-49fb-ebbe-37a2988bec1e"
      },
      "source": [
        "final_train_csv=map_and_drop_missing_data(train_image_names,train_csv)"
      ],
      "execution_count": null,
      "outputs": [
        {
          "output_type": "stream",
          "text": [
            "Images from cam 53594\n",
            "sensor data (53592, 34)\n",
            "final images 53592\n"
          ],
          "name": "stdout"
        }
      ]
    },
    {
      "cell_type": "code",
      "metadata": {
        "id": "LBqHL1wojniu",
        "colab": {
          "base_uri": "https://localhost:8080/",
          "height": 326
        },
        "outputId": "2b79c0f9-64eb-4ab0-b2b0-9063a6ac3fe4"
      },
      "source": [
        "final_train_csv.head(5)"
      ],
      "execution_count": null,
      "outputs": [
        {
          "output_type": "execute_result",
          "data": {
            "text/html": [
              "<div>\n",
              "<style scoped>\n",
              "    .dataframe tbody tr th:only-of-type {\n",
              "        vertical-align: middle;\n",
              "    }\n",
              "\n",
              "    .dataframe tbody tr th {\n",
              "        vertical-align: top;\n",
              "    }\n",
              "\n",
              "    .dataframe thead th {\n",
              "        text-align: right;\n",
              "    }\n",
              "</style>\n",
              "<table border=\"1\" class=\"dataframe\">\n",
              "  <thead>\n",
              "    <tr style=\"text-align: right;\">\n",
              "      <th></th>\n",
              "      <th>TimeStamps</th>\n",
              "      <th>AnkleAccelerometer x-axis</th>\n",
              "      <th>AnkleAccelerometer y-axis</th>\n",
              "      <th>AnkleAccelerometer z-axis</th>\n",
              "      <th>AnkleAngularVelocity x-axis</th>\n",
              "      <th>AnkleAngularVelocity y-axis</th>\n",
              "      <th>AnkleAngularVelocity z-axis</th>\n",
              "      <th>RightPocketAccelerometer x-axis</th>\n",
              "      <th>RightPocketAccelerometer y-axis</th>\n",
              "      <th>RightPocketAccelerometer z-axis</th>\n",
              "      <th>RightPocketAngularVelocity x-axis</th>\n",
              "      <th>RightPocketAngularVelocity y-axis</th>\n",
              "      <th>RightPocketAngularVelocity z-axis</th>\n",
              "      <th>BeltAccelerometer x-axis</th>\n",
              "      <th>BeltAccelerometer y-axis</th>\n",
              "      <th>BeltAccelerometer z-axis</th>\n",
              "      <th>BeltAngularVelocity x-axis</th>\n",
              "      <th>BeltAngularVelocity y-axis</th>\n",
              "      <th>BeltAngularVelocity z-axis</th>\n",
              "      <th>NeckAccelerometer x-axis</th>\n",
              "      <th>NeckAccelerometer y-axis</th>\n",
              "      <th>NeckAccelerometer z-axis</th>\n",
              "      <th>NeckAngularVelocity x-axis</th>\n",
              "      <th>NeckAngularVelocity y-axis</th>\n",
              "      <th>NeckAngularVelocity z-axis</th>\n",
              "      <th>WristAccelerometer x-axis</th>\n",
              "      <th>WristAccelerometer y-axis</th>\n",
              "      <th>WristAccelerometer z-axis</th>\n",
              "      <th>WristAngularVelocity x-axis</th>\n",
              "      <th>WristAngularVelocity y-axis</th>\n",
              "      <th>WristAngularVelocity z-axis</th>\n",
              "      <th>Tag</th>\n",
              "      <th>Activity</th>\n",
              "      <th>Subject</th>\n",
              "    </tr>\n",
              "  </thead>\n",
              "  <tbody>\n",
              "    <tr>\n",
              "      <th>0</th>\n",
              "      <td>2018-07-04T12:04:17.738369</td>\n",
              "      <td>-1.005</td>\n",
              "      <td>0.229</td>\n",
              "      <td>-0.083</td>\n",
              "      <td>-0.671</td>\n",
              "      <td>0.488</td>\n",
              "      <td>-2.683</td>\n",
              "      <td>-0.981</td>\n",
              "      <td>0.260</td>\n",
              "      <td>0.098</td>\n",
              "      <td>1.768</td>\n",
              "      <td>-1.890</td>\n",
              "      <td>0.732</td>\n",
              "      <td>0.146</td>\n",
              "      <td>0.895</td>\n",
              "      <td>0.367</td>\n",
              "      <td>-1.463</td>\n",
              "      <td>-3.841</td>\n",
              "      <td>-2.622</td>\n",
              "      <td>-0.672</td>\n",
              "      <td>0.072</td>\n",
              "      <td>-0.815</td>\n",
              "      <td>-3.293</td>\n",
              "      <td>-7.805</td>\n",
              "      <td>9.207</td>\n",
              "      <td>-1.240</td>\n",
              "      <td>-0.557</td>\n",
              "      <td>0.227</td>\n",
              "      <td>-75.854</td>\n",
              "      <td>44.024</td>\n",
              "      <td>315.915</td>\n",
              "      <td>7</td>\n",
              "      <td>1</td>\n",
              "      <td>1</td>\n",
              "    </tr>\n",
              "    <tr>\n",
              "      <th>1</th>\n",
              "      <td>2018-07-04T12:04:17.790509</td>\n",
              "      <td>-1.005</td>\n",
              "      <td>0.228</td>\n",
              "      <td>-0.082</td>\n",
              "      <td>-3.415</td>\n",
              "      <td>-0.549</td>\n",
              "      <td>0.122</td>\n",
              "      <td>-0.981</td>\n",
              "      <td>0.260</td>\n",
              "      <td>0.098</td>\n",
              "      <td>3.354</td>\n",
              "      <td>-2.500</td>\n",
              "      <td>-0.061</td>\n",
              "      <td>0.146</td>\n",
              "      <td>0.895</td>\n",
              "      <td>0.367</td>\n",
              "      <td>1.037</td>\n",
              "      <td>-4.024</td>\n",
              "      <td>-1.768</td>\n",
              "      <td>-0.672</td>\n",
              "      <td>0.072</td>\n",
              "      <td>-0.815</td>\n",
              "      <td>-9.756</td>\n",
              "      <td>-8.049</td>\n",
              "      <td>5.122</td>\n",
              "      <td>-1.240</td>\n",
              "      <td>-0.557</td>\n",
              "      <td>0.227</td>\n",
              "      <td>-28.780</td>\n",
              "      <td>55.549</td>\n",
              "      <td>344.146</td>\n",
              "      <td>7</td>\n",
              "      <td>1</td>\n",
              "      <td>1</td>\n",
              "    </tr>\n",
              "    <tr>\n",
              "      <th>2</th>\n",
              "      <td>2018-07-04T12:04:17.836632</td>\n",
              "      <td>-1.005</td>\n",
              "      <td>0.231</td>\n",
              "      <td>-0.079</td>\n",
              "      <td>-2.622</td>\n",
              "      <td>-1.402</td>\n",
              "      <td>-0.549</td>\n",
              "      <td>-0.975</td>\n",
              "      <td>0.282</td>\n",
              "      <td>0.091</td>\n",
              "      <td>3.720</td>\n",
              "      <td>-2.500</td>\n",
              "      <td>-0.793</td>\n",
              "      <td>0.178</td>\n",
              "      <td>0.896</td>\n",
              "      <td>0.373</td>\n",
              "      <td>0.366</td>\n",
              "      <td>-2.500</td>\n",
              "      <td>-0.488</td>\n",
              "      <td>-0.705</td>\n",
              "      <td>0.084</td>\n",
              "      <td>-0.779</td>\n",
              "      <td>-17.866</td>\n",
              "      <td>-18.354</td>\n",
              "      <td>4.329</td>\n",
              "      <td>-1.884</td>\n",
              "      <td>-0.687</td>\n",
              "      <td>0.251</td>\n",
              "      <td>27.256</td>\n",
              "      <td>87.134</td>\n",
              "      <td>372.012</td>\n",
              "      <td>7</td>\n",
              "      <td>1</td>\n",
              "      <td>1</td>\n",
              "    </tr>\n",
              "    <tr>\n",
              "      <th>3</th>\n",
              "      <td>2018-07-04T12:04:17.885262</td>\n",
              "      <td>-1.005</td>\n",
              "      <td>0.231</td>\n",
              "      <td>-0.079</td>\n",
              "      <td>-2.561</td>\n",
              "      <td>-2.195</td>\n",
              "      <td>-1.220</td>\n",
              "      <td>-0.973</td>\n",
              "      <td>0.301</td>\n",
              "      <td>0.103</td>\n",
              "      <td>-1.951</td>\n",
              "      <td>-1.159</td>\n",
              "      <td>-1.280</td>\n",
              "      <td>0.160</td>\n",
              "      <td>0.895</td>\n",
              "      <td>0.372</td>\n",
              "      <td>0.854</td>\n",
              "      <td>1.951</td>\n",
              "      <td>1.585</td>\n",
              "      <td>-0.727</td>\n",
              "      <td>0.095</td>\n",
              "      <td>-0.758</td>\n",
              "      <td>-18.537</td>\n",
              "      <td>-10.061</td>\n",
              "      <td>0.366</td>\n",
              "      <td>-1.884</td>\n",
              "      <td>-0.687</td>\n",
              "      <td>0.251</td>\n",
              "      <td>2.866</td>\n",
              "      <td>117.683</td>\n",
              "      <td>356.463</td>\n",
              "      <td>7</td>\n",
              "      <td>1</td>\n",
              "      <td>1</td>\n",
              "    </tr>\n",
              "    <tr>\n",
              "      <th>4</th>\n",
              "      <td>2018-07-04T12:04:17.945423</td>\n",
              "      <td>-1.008</td>\n",
              "      <td>0.229</td>\n",
              "      <td>-0.072</td>\n",
              "      <td>-3.537</td>\n",
              "      <td>-2.073</td>\n",
              "      <td>-0.305</td>\n",
              "      <td>-0.973</td>\n",
              "      <td>0.301</td>\n",
              "      <td>0.103</td>\n",
              "      <td>-5.366</td>\n",
              "      <td>-1.280</td>\n",
              "      <td>-0.732</td>\n",
              "      <td>0.160</td>\n",
              "      <td>0.895</td>\n",
              "      <td>0.372</td>\n",
              "      <td>2.012</td>\n",
              "      <td>4.634</td>\n",
              "      <td>3.354</td>\n",
              "      <td>-0.727</td>\n",
              "      <td>0.095</td>\n",
              "      <td>-0.758</td>\n",
              "      <td>4.878</td>\n",
              "      <td>2.866</td>\n",
              "      <td>-3.232</td>\n",
              "      <td>-1.597</td>\n",
              "      <td>-0.646</td>\n",
              "      <td>0.112</td>\n",
              "      <td>10.000</td>\n",
              "      <td>30.671</td>\n",
              "      <td>126.768</td>\n",
              "      <td>7</td>\n",
              "      <td>1</td>\n",
              "      <td>1</td>\n",
              "    </tr>\n",
              "  </tbody>\n",
              "</table>\n",
              "</div>"
            ],
            "text/plain": [
              "                   TimeStamps  AnkleAccelerometer x-axis  ...  Activity  Subject\n",
              "0  2018-07-04T12:04:17.738369                     -1.005  ...         1        1\n",
              "1  2018-07-04T12:04:17.790509                     -1.005  ...         1        1\n",
              "2  2018-07-04T12:04:17.836632                     -1.005  ...         1        1\n",
              "3  2018-07-04T12:04:17.885262                     -1.005  ...         1        1\n",
              "4  2018-07-04T12:04:17.945423                     -1.008  ...         1        1\n",
              "\n",
              "[5 rows x 34 columns]"
            ]
          },
          "metadata": {
            "tags": []
          },
          "execution_count": 25
        }
      ]
    },
    {
      "cell_type": "code",
      "metadata": {
        "id": "PO8eH0lXjuC9",
        "colab": {
          "base_uri": "https://localhost:8080/",
          "height": 68
        },
        "outputId": "116e515d-1c52-427e-8ecd-984ed5e06860"
      },
      "source": [
        "final_test_csv=map_and_drop_missing_data(test_image_names,test_csv)"
      ],
      "execution_count": null,
      "outputs": [
        {
          "output_type": "stream",
          "text": [
            "Images from cam 17601\n",
            "sensor data (17601, 34)\n",
            "final images 17601\n"
          ],
          "name": "stdout"
        }
      ]
    },
    {
      "cell_type": "code",
      "metadata": {
        "id": "2eJK515Cj1S8",
        "colab": {
          "base_uri": "https://localhost:8080/",
          "height": 279
        },
        "outputId": "464dc64f-b237-4852-a10c-224891d50047"
      },
      "source": [
        "final_train_csv.Subject.value_counts().plot(kind='bar')"
      ],
      "execution_count": null,
      "outputs": [
        {
          "output_type": "execute_result",
          "data": {
            "text/plain": [
              "<matplotlib.axes._subplots.AxesSubplot at 0x7f9ec7810c18>"
            ]
          },
          "metadata": {
            "tags": []
          },
          "execution_count": 27
        },
        {
          "output_type": "display_data",
          "data": {
            "image/png": "[encoded data removed]",
            "text/plain": [
              "<Figure size 432x288 with 1 Axes>"
            ]
          },
          "metadata": {
            "tags": []
          }
        }
      ]
    },
    {
      "cell_type": "code",
      "metadata": {
        "id": "KGVYUDfXj9pQ",
        "colab": {
          "base_uri": "https://localhost:8080/",
          "height": 285
        },
        "outputId": "df81ee90-fcb6-4f33-ab13-6d7c0683cbc6"
      },
      "source": [
        "final_train_csv.Tag.value_counts().plot(kind='bar')"
      ],
      "execution_count": null,
      "outputs": [
        {
          "output_type": "execute_result",
          "data": {
            "text/plain": [
              "<matplotlib.axes._subplots.AxesSubplot at 0x7f9eb4194f98>"
            ]
          },
          "metadata": {
            "tags": []
          },
          "execution_count": 28
        },
        {
          "output_type": "display_data",
          "data": {
            "image/png": "[encoded data removed]",
            "text/plain": [
              "<Figure size 432x288 with 1 Axes>"
            ]
          },
          "metadata": {
            "tags": []
          }
        }
      ]
    },
    {
      "cell_type": "code",
      "metadata": {
        "id": "fweNnGEgkPCn",
        "colab": {
          "base_uri": "https://localhost:8080/",
          "height": 285
        },
        "outputId": "895fb362-952a-4d3d-db9e-7410a3bcc22c"
      },
      "source": [
        "final_test_csv.Tag.value_counts().plot(kind='bar')"
      ],
      "execution_count": null,
      "outputs": [
        {
          "output_type": "execute_result",
          "data": {
            "text/plain": [
              "<matplotlib.axes._subplots.AxesSubplot at 0x7f9eb4a297f0>"
            ]
          },
          "metadata": {
            "tags": []
          },
          "execution_count": 29
        },
        {
          "output_type": "display_data",
          "data": {
            "image/png": "[encoded data removed]",
            "text/plain": [
              "<Figure size 432x288 with 1 Axes>"
            ]
          },
          "metadata": {
            "tags": []
          }
        }
      ]
    },
    {
      "cell_type": "code",
      "metadata": {
        "id": "R___TwIFkZLo"
      },
      "source": [
        "def map_image__csv(ts,activity):\n",
        "  ts=ts.replace(':','_')\n",
        "  image_path=f\"Activity{activity}/{ts}.png\"\n",
        "  return image_path\n",
        "def rearrange_dataframe(df):\n",
        "  df[\"id\"]=df.apply(lambda x:map_image__csv(x['TimeStamps'], x['Activity']),axis=1)\n",
        "  return df"
      ],
      "execution_count": null,
      "outputs": []
    },
    {
      "cell_type": "code",
      "metadata": {
        "id": "rP25Kh7skmeG"
      },
      "source": [
        "final_train_csv=rearrange_dataframe(final_train_csv)\n",
        "final_test_csv=rearrange_dataframe(final_test_csv)"
      ],
      "execution_count": null,
      "outputs": []
    },
    {
      "cell_type": "code",
      "metadata": {
        "id": "cDU5cV2X2zFo"
      },
      "source": [
        "final_test_csv[\"Tag\"]=final_test_csv[\"Tag\"]-1\n",
        "final_train_csv[\"Tag\"]=final_train_csv[\"Tag\"]-1"
      ],
      "execution_count": null,
      "outputs": []
    },
    {
      "cell_type": "code",
      "metadata": {
        "id": "SmfhSobckpqT",
        "colab": {
          "base_uri": "https://localhost:8080/",
          "height": 326
        },
        "outputId": "2d393f84-4180-4cf8-bb7c-c29b8df77630"
      },
      "source": [
        "final_train_csv[final_train_csv.Tag==1].head(5)\n"
      ],
      "execution_count": null,
      "outputs": [
        {
          "output_type": "execute_result",
          "data": {
            "text/html": [
              "<div>\n",
              "<style scoped>\n",
              "    .dataframe tbody tr th:only-of-type {\n",
              "        vertical-align: middle;\n",
              "    }\n",
              "\n",
              "    .dataframe tbody tr th {\n",
              "        vertical-align: top;\n",
              "    }\n",
              "\n",
              "    .dataframe thead th {\n",
              "        text-align: right;\n",
              "    }\n",
              "</style>\n",
              "<table border=\"1\" class=\"dataframe\">\n",
              "  <thead>\n",
              "    <tr style=\"text-align: right;\">\n",
              "      <th></th>\n",
              "      <th>TimeStamps</th>\n",
              "      <th>AnkleAccelerometer x-axis</th>\n",
              "      <th>AnkleAccelerometer y-axis</th>\n",
              "      <th>AnkleAccelerometer z-axis</th>\n",
              "      <th>AnkleAngularVelocity x-axis</th>\n",
              "      <th>AnkleAngularVelocity y-axis</th>\n",
              "      <th>AnkleAngularVelocity z-axis</th>\n",
              "      <th>RightPocketAccelerometer x-axis</th>\n",
              "      <th>RightPocketAccelerometer y-axis</th>\n",
              "      <th>RightPocketAccelerometer z-axis</th>\n",
              "      <th>RightPocketAngularVelocity x-axis</th>\n",
              "      <th>RightPocketAngularVelocity y-axis</th>\n",
              "      <th>RightPocketAngularVelocity z-axis</th>\n",
              "      <th>BeltAccelerometer x-axis</th>\n",
              "      <th>BeltAccelerometer y-axis</th>\n",
              "      <th>BeltAccelerometer z-axis</th>\n",
              "      <th>BeltAngularVelocity x-axis</th>\n",
              "      <th>BeltAngularVelocity y-axis</th>\n",
              "      <th>BeltAngularVelocity z-axis</th>\n",
              "      <th>NeckAccelerometer x-axis</th>\n",
              "      <th>NeckAccelerometer y-axis</th>\n",
              "      <th>NeckAccelerometer z-axis</th>\n",
              "      <th>NeckAngularVelocity x-axis</th>\n",
              "      <th>NeckAngularVelocity y-axis</th>\n",
              "      <th>NeckAngularVelocity z-axis</th>\n",
              "      <th>WristAccelerometer x-axis</th>\n",
              "      <th>WristAccelerometer y-axis</th>\n",
              "      <th>WristAccelerometer z-axis</th>\n",
              "      <th>WristAngularVelocity x-axis</th>\n",
              "      <th>WristAngularVelocity y-axis</th>\n",
              "      <th>WristAngularVelocity z-axis</th>\n",
              "      <th>Tag</th>\n",
              "      <th>Activity</th>\n",
              "      <th>Subject</th>\n",
              "      <th>id</th>\n",
              "    </tr>\n",
              "  </thead>\n",
              "  <tbody>\n",
              "    <tr>\n",
              "      <th>590</th>\n",
              "      <td>2018-07-04T12:05:19.991793</td>\n",
              "      <td>-1.031</td>\n",
              "      <td>0.129</td>\n",
              "      <td>-0.065</td>\n",
              "      <td>-2.866</td>\n",
              "      <td>-1.098</td>\n",
              "      <td>0.732</td>\n",
              "      <td>-0.932</td>\n",
              "      <td>0.400</td>\n",
              "      <td>0.086</td>\n",
              "      <td>4.146</td>\n",
              "      <td>3.598</td>\n",
              "      <td>-9.146</td>\n",
              "      <td>0.074</td>\n",
              "      <td>0.898</td>\n",
              "      <td>0.365</td>\n",
              "      <td>14.268</td>\n",
              "      <td>-7.378</td>\n",
              "      <td>1.463</td>\n",
              "      <td>-0.732</td>\n",
              "      <td>0.026</td>\n",
              "      <td>-0.827</td>\n",
              "      <td>3.720</td>\n",
              "      <td>27.744</td>\n",
              "      <td>17.805</td>\n",
              "      <td>-0.953</td>\n",
              "      <td>-0.304</td>\n",
              "      <td>0.087</td>\n",
              "      <td>-12.195</td>\n",
              "      <td>-2.805</td>\n",
              "      <td>-4.573</td>\n",
              "      <td>1</td>\n",
              "      <td>2</td>\n",
              "      <td>1</td>\n",
              "      <td>Activity2/2018-07-04T12_05_19.991793.png</td>\n",
              "    </tr>\n",
              "    <tr>\n",
              "      <th>591</th>\n",
              "      <td>2018-07-04T12:05:20.041927</td>\n",
              "      <td>-1.031</td>\n",
              "      <td>0.129</td>\n",
              "      <td>-0.065</td>\n",
              "      <td>-4.634</td>\n",
              "      <td>-0.061</td>\n",
              "      <td>-2.317</td>\n",
              "      <td>-0.950</td>\n",
              "      <td>0.394</td>\n",
              "      <td>0.037</td>\n",
              "      <td>-24.451</td>\n",
              "      <td>38.659</td>\n",
              "      <td>-10.000</td>\n",
              "      <td>0.097</td>\n",
              "      <td>0.925</td>\n",
              "      <td>0.356</td>\n",
              "      <td>4.817</td>\n",
              "      <td>-3.476</td>\n",
              "      <td>-1.098</td>\n",
              "      <td>-0.694</td>\n",
              "      <td>0.078</td>\n",
              "      <td>-0.813</td>\n",
              "      <td>7.195</td>\n",
              "      <td>-0.549</td>\n",
              "      <td>14.390</td>\n",
              "      <td>-0.953</td>\n",
              "      <td>-0.304</td>\n",
              "      <td>0.087</td>\n",
              "      <td>-28.232</td>\n",
              "      <td>-0.183</td>\n",
              "      <td>-6.646</td>\n",
              "      <td>1</td>\n",
              "      <td>2</td>\n",
              "      <td>1</td>\n",
              "      <td>Activity2/2018-07-04T12_05_20.041927.png</td>\n",
              "    </tr>\n",
              "    <tr>\n",
              "      <th>592</th>\n",
              "      <td>2018-07-04T12:05:20.087549</td>\n",
              "      <td>-1.024</td>\n",
              "      <td>0.112</td>\n",
              "      <td>-0.070</td>\n",
              "      <td>-4.939</td>\n",
              "      <td>-1.524</td>\n",
              "      <td>-2.927</td>\n",
              "      <td>-0.950</td>\n",
              "      <td>0.394</td>\n",
              "      <td>0.037</td>\n",
              "      <td>-72.683</td>\n",
              "      <td>73.537</td>\n",
              "      <td>-8.720</td>\n",
              "      <td>0.076</td>\n",
              "      <td>0.898</td>\n",
              "      <td>0.367</td>\n",
              "      <td>8.780</td>\n",
              "      <td>-5.610</td>\n",
              "      <td>1.524</td>\n",
              "      <td>-0.694</td>\n",
              "      <td>0.078</td>\n",
              "      <td>-0.813</td>\n",
              "      <td>8.232</td>\n",
              "      <td>4.756</td>\n",
              "      <td>17.805</td>\n",
              "      <td>-0.876</td>\n",
              "      <td>-0.331</td>\n",
              "      <td>0.112</td>\n",
              "      <td>-30.915</td>\n",
              "      <td>24.268</td>\n",
              "      <td>-9.390</td>\n",
              "      <td>1</td>\n",
              "      <td>2</td>\n",
              "      <td>1</td>\n",
              "      <td>Activity2/2018-07-04T12_05_20.087549.png</td>\n",
              "    </tr>\n",
              "    <tr>\n",
              "      <th>593</th>\n",
              "      <td>2018-07-04T12:05:20.133672</td>\n",
              "      <td>-1.024</td>\n",
              "      <td>0.103</td>\n",
              "      <td>-0.063</td>\n",
              "      <td>-4.390</td>\n",
              "      <td>1.707</td>\n",
              "      <td>-13.049</td>\n",
              "      <td>-0.945</td>\n",
              "      <td>0.354</td>\n",
              "      <td>0.045</td>\n",
              "      <td>10.305</td>\n",
              "      <td>-28.841</td>\n",
              "      <td>-2.744</td>\n",
              "      <td>0.076</td>\n",
              "      <td>0.898</td>\n",
              "      <td>0.367</td>\n",
              "      <td>6.646</td>\n",
              "      <td>-3.902</td>\n",
              "      <td>0.244</td>\n",
              "      <td>-0.672</td>\n",
              "      <td>0.068</td>\n",
              "      <td>-0.774</td>\n",
              "      <td>11.524</td>\n",
              "      <td>-10.793</td>\n",
              "      <td>12.927</td>\n",
              "      <td>-0.923</td>\n",
              "      <td>-0.358</td>\n",
              "      <td>0.189</td>\n",
              "      <td>8.598</td>\n",
              "      <td>31.707</td>\n",
              "      <td>-7.134</td>\n",
              "      <td>1</td>\n",
              "      <td>2</td>\n",
              "      <td>1</td>\n",
              "      <td>Activity2/2018-07-04T12_05_20.133672.png</td>\n",
              "    </tr>\n",
              "    <tr>\n",
              "      <th>594</th>\n",
              "      <td>2018-07-04T12:05:20.187316</td>\n",
              "      <td>-1.024</td>\n",
              "      <td>0.103</td>\n",
              "      <td>-0.063</td>\n",
              "      <td>-4.573</td>\n",
              "      <td>3.110</td>\n",
              "      <td>-16.159</td>\n",
              "      <td>-0.908</td>\n",
              "      <td>0.407</td>\n",
              "      <td>0.071</td>\n",
              "      <td>17.317</td>\n",
              "      <td>-14.817</td>\n",
              "      <td>-1.402</td>\n",
              "      <td>0.075</td>\n",
              "      <td>0.891</td>\n",
              "      <td>0.377</td>\n",
              "      <td>4.024</td>\n",
              "      <td>-3.780</td>\n",
              "      <td>-1.280</td>\n",
              "      <td>-0.672</td>\n",
              "      <td>0.068</td>\n",
              "      <td>-0.774</td>\n",
              "      <td>7.927</td>\n",
              "      <td>-7.805</td>\n",
              "      <td>12.500</td>\n",
              "      <td>-0.923</td>\n",
              "      <td>-0.358</td>\n",
              "      <td>0.189</td>\n",
              "      <td>39.512</td>\n",
              "      <td>32.622</td>\n",
              "      <td>-5.366</td>\n",
              "      <td>1</td>\n",
              "      <td>2</td>\n",
              "      <td>1</td>\n",
              "      <td>Activity2/2018-07-04T12_05_20.187316.png</td>\n",
              "    </tr>\n",
              "  </tbody>\n",
              "</table>\n",
              "</div>"
            ],
            "text/plain": [
              "                     TimeStamps  ...                                        id\n",
              "590  2018-07-04T12:05:19.991793  ...  Activity2/2018-07-04T12_05_19.991793.png\n",
              "591  2018-07-04T12:05:20.041927  ...  Activity2/2018-07-04T12_05_20.041927.png\n",
              "592  2018-07-04T12:05:20.087549  ...  Activity2/2018-07-04T12_05_20.087549.png\n",
              "593  2018-07-04T12:05:20.133672  ...  Activity2/2018-07-04T12_05_20.133672.png\n",
              "594  2018-07-04T12:05:20.187316  ...  Activity2/2018-07-04T12_05_20.187316.png\n",
              "\n",
              "[5 rows x 35 columns]"
            ]
          },
          "metadata": {
            "tags": []
          },
          "execution_count": 33
        }
      ]
    },
    {
      "cell_type": "code",
      "metadata": {
        "id": "mMiYElGYf_uy",
        "colab": {
          "base_uri": "https://localhost:8080/",
          "height": 629
        },
        "outputId": "4c48ddd0-ae4f-4c23-adb0-8ee0f5fa0016"
      },
      "source": [
        "final_train_csv.max()"
      ],
      "execution_count": null,
      "outputs": [
        {
          "output_type": "execute_result",
          "data": {
            "text/plain": [
              "TimeStamps                                         2018-07-10T13:50:27.073466\n",
              "AnkleAccelerometer x-axis                                               2.367\n",
              "AnkleAccelerometer y-axis                                               4.081\n",
              "AnkleAccelerometer z-axis                                                 2.4\n",
              "AnkleAngularVelocity x-axis                                           741.098\n",
              "AnkleAngularVelocity y-axis                                           634.329\n",
              "AnkleAngularVelocity z-axis                                           431.463\n",
              "RightPocketAccelerometer x-axis                                         3.218\n",
              "RightPocketAccelerometer y-axis                                         4.401\n",
              "RightPocketAccelerometer z-axis                                         4.638\n",
              "RightPocketAngularVelocity x-axis                                     427.866\n",
              "RightPocketAngularVelocity y-axis                                     514.207\n",
              "RightPocketAngularVelocity z-axis                                     269.756\n",
              "BeltAccelerometer x-axis                                                3.531\n",
              "BeltAccelerometer y-axis                                                 3.94\n",
              "BeltAccelerometer z-axis                                                  4.2\n",
              "BeltAngularVelocity x-axis                                            735.244\n",
              "BeltAngularVelocity y-axis                                            755.671\n",
              "BeltAngularVelocity z-axis                                            497.805\n",
              "NeckAccelerometer x-axis                                                5.666\n",
              "NeckAccelerometer y-axis                                                2.765\n",
              "NeckAccelerometer z-axis                                                2.663\n",
              "NeckAngularVelocity x-axis                                            753.476\n",
              "NeckAngularVelocity y-axis                                             1076.1\n",
              "NeckAngularVelocity z-axis                                            751.403\n",
              "WristAccelerometer x-axis                                               4.435\n",
              "WristAccelerometer y-axis                                               4.186\n",
              "WristAccelerometer z-axis                                               4.527\n",
              "WristAngularVelocity x-axis                                           840.488\n",
              "WristAngularVelocity y-axis                                           892.988\n",
              "WristAngularVelocity z-axis                                           655.793\n",
              "Tag                                                                        10\n",
              "Activity                                                                   11\n",
              "Subject                                                                     4\n",
              "id                                   Activity9/2018-07-10T13_44_47.603049.png\n",
              "dtype: object"
            ]
          },
          "metadata": {
            "tags": []
          },
          "execution_count": 34
        }
      ]
    },
    {
      "cell_type": "code",
      "metadata": {
        "id": "uChEpntKgpyN"
      },
      "source": [
        "from fastai.vision import *\n",
        "import torch.nn as nn\n",
        "import torch.nn.functional as F\n",
        "import torch"
      ],
      "execution_count": null,
      "outputs": []
    },
    {
      "cell_type": "code",
      "metadata": {
        "id": "5NUG43UH39--",
        "colab": {
          "base_uri": "https://localhost:8080/",
          "height": 71
        },
        "outputId": "4e677d34-ddc7-4948-e3cc-db58e5eae76d"
      },
      "source": [
        "restnet=models.resnet34(pretrained=True, progress=True)\n",
        "restnet_updated = nn.Sequential(*list(restnet.children())[:-1])"
      ],
      "execution_count": null,
      "outputs": [
        {
          "output_type": "stream",
          "text": [
            "Downloading: \"https://download.pytorch.org/models/resnet34-333f7ec4.pth\" to /root/.cache/torch/checkpoints/resnet34-333f7ec4.pth\n",
            "100%|██████████| 83.3M/83.3M [00:01<00:00, 55.6MB/s]\n"
          ],
          "name": "stderr"
        }
      ]
    },
    {
      "cell_type": "code",
      "metadata": {
        "id": "VOV0WIM0iZZ9"
      },
      "source": [
        "device=\"cuda:0\""
      ],
      "execution_count": null,
      "outputs": []
    },
    {
      "cell_type": "code",
      "metadata": {
        "id": "avB2D4775BKC"
      },
      "source": [
        "class CustomDataset(Dataset):\n",
        "    def __init__(self, csv_file, root_dir,features=features):\n",
        "        self.csv_file, self.root_dir,self.features= csv_file, root_dir,features\n",
        "        self.c = 11 # binary label\n",
        "        self.classes=[f'Tag{i+1}' for i in range(10)]\n",
        "  \n",
        "    \n",
        "    def __len__(self):\n",
        "        return len(self.csv_file)\n",
        "    \n",
        "    def __getitem__(self, i):\n",
        "        img_name = os.path.join(self.root_dir,\n",
        "                            self.csv_file[\"id\"].iloc[i])\n",
        "        \n",
        "        image = cv2.imread(img_name)\n",
        "        image=cv2.resize(image,(224,224))\n",
        "        image=image.reshape(3,224,224)\n",
        "        image=image/255\n",
        "        sensors_data_array = np.array(self.csv_file[self.features].iloc[i]).astype(np.float32)\n",
        "  \n",
        "        return [image,sensors_data_array], self.csv_file[\"Tag\"].iloc[i]"
      ],
      "execution_count": null,
      "outputs": []
    },
    {
      "cell_type": "code",
      "metadata": {
        "id": "-NrHfq6W574Q"
      },
      "source": [
        "final_test_csv=final_test_csv[final_test_csv.Tag<=10]"
      ],
      "execution_count": null,
      "outputs": []
    },
    {
      "cell_type": "code",
      "metadata": {
        "id": "HlsCl8P-4bYb"
      },
      "source": [
        "train_ds, valid_ds = CustomDataset(final_train_csv,\"/content/data/train\"), CustomDataset(final_test_csv,\"/content/data/test\")"
      ],
      "execution_count": null,
      "outputs": []
    },
    {
      "cell_type": "code",
      "metadata": {
        "id": "aYW0H2mZ6lMS"
      },
      "source": [
        "data = DataBunch.create(train_ds, valid_ds, bs=32, num_workers=1)\n",
        "l=data.one_batch()"
      ],
      "execution_count": null,
      "outputs": []
    },
    {
      "cell_type": "code",
      "metadata": {
        "id": "Gexy_9ZU84Om"
      },
      "source": [
        "class LsfmNet(nn.Module):\n",
        "    def __init__(self,init_net,no_sensor_features,classes):\n",
        "        super(LsfmNet, self).__init__()\n",
        "        self.restnet = init_net\n",
        "        self.fc1 = nn.Linear(512, 120)\n",
        "        self.fc2 = nn.Linear(120+no_sensor_features, 60)\n",
        "        self.fc3 = nn.Linear(60, classes)\n",
        "\n",
        "    def forward(self, image,data):\n",
        "        image=image.type(torch.float32)\n",
        "        rest_out = self.restnet(image)\n",
        "        x1=self.fc1(rest_out.squeeze())\n",
        "        if len(x1.size())==1:x1=torch.unsqueeze(x1, dim=0)\n",
        "        x = torch.cat((x1, data), dim=1)\n",
        "        x = F.relu(self.fc2(x))\n",
        "        x = self.fc3(x)\n",
        "        return F.softmax(x)\n",
        "\n",
        "\n",
        "lsfmnet = LsfmNet(restnet_updated,30,11)"
      ],
      "execution_count": null,
      "outputs": []
    },
    {
      "cell_type": "code",
      "metadata": {
        "id": "S9UNHLMG9Dui",
        "colab": {
          "base_uri": "https://localhost:8080/",
          "height": 34
        },
        "outputId": "1fdb1105-4172-40de-c5db-6db066587749"
      },
      "source": [
        "len(features)"
      ],
      "execution_count": null,
      "outputs": [
        {
          "output_type": "execute_result",
          "data": {
            "text/plain": [
              "30"
            ]
          },
          "metadata": {
            "tags": []
          },
          "execution_count": 43
        }
      ]
    },
    {
      "cell_type": "markdown",
      "metadata": {
        "id": "qph4mvifr2B1"
      },
      "source": [
        ""
      ]
    },
    {
      "cell_type": "code",
      "metadata": {
        "id": "6on5vM9a9F8t"
      },
      "source": [
        "learn = Learner(data, lsfmnet, metrics=error_rate,loss_func = nn.CrossEntropyLoss())"
      ],
      "execution_count": null,
      "outputs": []
    },
    {
      "cell_type": "code",
      "metadata": {
        "id": "CvtWxppRimBc",
        "colab": {
          "base_uri": "https://localhost:8080/",
          "height": 71
        },
        "outputId": "76a138d4-4061-4473-ecd5-c10af88ce94f"
      },
      "source": [
        "learn.lr_find()"
      ],
      "execution_count": null,
      "outputs": [
        {
          "output_type": "display_data",
          "data": {
            "text/html": [
              ""
            ],
            "text/plain": [
              "<IPython.core.display.HTML object>"
            ]
          },
          "metadata": {
            "tags": []
          }
        },
        {
          "output_type": "stream",
          "text": [
            "/usr/local/lib/python3.6/dist-packages/ipykernel_launcher.py:17: UserWarning: Implicit dimension choice for softmax has been deprecated. Change the call to include dim=X as an argument.\n"
          ],
          "name": "stderr"
        },
        {
          "output_type": "stream",
          "text": [
            "LR Finder is complete, type {learner_name}.recorder.plot() to see the graph.\n"
          ],
          "name": "stdout"
        }
      ]
    },
    {
      "cell_type": "code",
      "metadata": {
        "id": "dakGYIsxipyk",
        "colab": {
          "base_uri": "https://localhost:8080/",
          "height": 279
        },
        "outputId": "d80e894b-0dd6-433a-cddb-01a7588acbbb"
      },
      "source": [
        "learn.recorder.plot()"
      ],
      "execution_count": null,
      "outputs": [
        {
          "output_type": "display_data",
          "data": {
            "image/png": "[encoded data removed]",
            "text/plain": [
              "<Figure size 432x288 with 1 Axes>"
            ]
          },
          "metadata": {
            "tags": []
          }
        }
      ]
    },
    {
      "cell_type": "code",
      "metadata": {
        "id": "jSz71B_oiuSk",
        "colab": {
          "base_uri": "https://localhost:8080/",
          "height": 366
        },
        "outputId": "36ab44e2-f3f4-4202-f82d-dd892a4ddd10"
      },
      "source": [
        "learn.fit_one_cycle(8,max_lr=3*1e-3)"
      ],
      "execution_count": null,
      "outputs": [
        {
          "output_type": "display_data",
          "data": {
            "text/html": [
              "\n",
              "    <div>\n",
              "        <style>\n",
              "            /* Turns off some styling */\n",
              "            progress {\n",
              "                /* gets rid of default border in Firefox and Opera. */\n",
              "                border: none;\n",
              "                /* Needs to be in here for Safari polyfill so background images work as expected. */\n",
              "                background-size: auto;\n",
              "            }\n",
              "            .progress-bar-interrupted, .progress-bar-interrupted::-webkit-progress-bar {\n",
              "                background: #F44336;\n",
              "            }\n",
              "        </style>\n",
              "      <progress value='7' class='' max='8', style='width:300px; height:20px; vertical-align: middle;'></progress>\n",
              "      87.50% [7/8 2:54:08<24:52]\n",
              "    </div>\n",
              "    \n",
              "<table border=\"1\" class=\"dataframe\">\n",
              "  <thead>\n",
              "    <tr style=\"text-align: left;\">\n",
              "      <th>epoch</th>\n",
              "      <th>train_loss</th>\n",
              "      <th>valid_loss</th>\n",
              "      <th>error_rate</th>\n",
              "      <th>time</th>\n",
              "    </tr>\n",
              "  </thead>\n",
              "  <tbody>\n",
              "    <tr>\n",
              "      <td>0</td>\n",
              "      <td>1.617627</td>\n",
              "      <td>1.717595</td>\n",
              "      <td>0.167658</td>\n",
              "      <td>24:37</td>\n",
              "    </tr>\n",
              "    <tr>\n",
              "      <td>1</td>\n",
              "      <td>1.608393</td>\n",
              "      <td>1.677428</td>\n",
              "      <td>0.133473</td>\n",
              "      <td>24:48</td>\n",
              "    </tr>\n",
              "    <tr>\n",
              "      <td>2</td>\n",
              "      <td>1.607836</td>\n",
              "      <td>1.706643</td>\n",
              "      <td>0.162700</td>\n",
              "      <td>24:45</td>\n",
              "    </tr>\n",
              "    <tr>\n",
              "      <td>3</td>\n",
              "      <td>1.598606</td>\n",
              "      <td>1.647536</td>\n",
              "      <td>0.101447</td>\n",
              "      <td>24:58</td>\n",
              "    </tr>\n",
              "    <tr>\n",
              "      <td>4</td>\n",
              "      <td>1.596403</td>\n",
              "      <td>1.717782</td>\n",
              "      <td>0.174542</td>\n",
              "      <td>24:51</td>\n",
              "    </tr>\n",
              "    <tr>\n",
              "      <td>5</td>\n",
              "      <td>1.594844</td>\n",
              "      <td>1.644712</td>\n",
              "      <td>0.101972</td>\n",
              "      <td>24:40</td>\n",
              "    </tr>\n",
              "    <tr>\n",
              "      <td>6</td>\n",
              "      <td>1.591051</td>\n",
              "      <td>1.671642</td>\n",
              "      <td>0.128806</td>\n",
              "      <td>25:26</td>\n",
              "    </tr>\n",
              "  </tbody>\n",
              "</table><p>\n",
              "\n",
              "    <div>\n",
              "        <style>\n",
              "            /* Turns off some styling */\n",
              "            progress {\n",
              "                /* gets rid of default border in Firefox and Opera. */\n",
              "                border: none;\n",
              "                /* Needs to be in here for Safari polyfill so background images work as expected. */\n",
              "                background-size: auto;\n",
              "            }\n",
              "            .progress-bar-interrupted, .progress-bar-interrupted::-webkit-progress-bar {\n",
              "                background: #F44336;\n",
              "            }\n",
              "        </style>\n",
              "      <progress value='220' class='' max='536', style='width:300px; height:20px; vertical-align: middle;'></progress>\n",
              "      41.04% [220/536 01:51<02:39]\n",
              "    </div>\n",
              "    "
            ],
            "text/plain": [
              "<IPython.core.display.HTML object>"
            ]
          },
          "metadata": {
            "tags": []
          }
        },
        {
          "output_type": "stream",
          "text": [
            "/usr/local/lib/python3.6/dist-packages/ipykernel_launcher.py:17: UserWarning: Implicit dimension choice for softmax has been deprecated. Change the call to include dim=X as an argument.\n"
          ],
          "name": "stderr"
        },
        {
          "output_type": "stream",
          "text": [
            "Buffered data was truncated after reaching the output size limit."
          ],
          "name": "stdout"
        }
      ]
    },
    {
      "cell_type": "code",
      "metadata": {
        "id": "zRIotIb7iz-o",
        "colab": {
          "base_uri": "https://localhost:8080/",
          "height": 34
        },
        "outputId": "5081a9dd-2706-4ef8-cc9b-ec2537df81ba"
      },
      "source": [
        "interp = ClassificationInterpretation.from_learner(learn)\n",
        "\n",
        "losses,idxs = interp.top_losses()\n",
        "\n",
        "len(data.valid_ds)==len(losses)==len(idxs)"
      ],
      "execution_count": null,
      "outputs": [
        {
          "output_type": "execute_result",
          "data": {
            "text/plain": [
              "True"
            ]
          },
          "metadata": {
            "tags": []
          },
          "execution_count": 48
        }
      ]
    },
    {
      "cell_type": "code",
      "metadata": {
        "id": "XbD377V9i4qu",
        "colab": {
          "base_uri": "https://localhost:8080/",
          "height": 34
        },
        "outputId": "562669f3-f464-48d0-cae6-36ed9e3ccf90"
      },
      "source": [
        "len(idxs),len(losses)"
      ],
      "execution_count": null,
      "outputs": [
        {
          "output_type": "execute_result",
          "data": {
            "text/plain": [
              "(17142, 17142)"
            ]
          },
          "metadata": {
            "tags": []
          },
          "execution_count": 49
        }
      ]
    },
    {
      "cell_type": "code",
      "metadata": {
        "id": "tBeQMunyi-iF"
      },
      "source": [
        "class Dummy:\n",
        "  def __init__(self):\n",
        "    self.classes=[f'Activity{i+1}' for i in range(11)]\n",
        "y=Dummy()\n",
        "CustomDataset.y=y"
      ],
      "execution_count": null,
      "outputs": []
    },
    {
      "cell_type": "code",
      "metadata": {
        "id": "s1YwuL3-aHCL"
      },
      "source": [
        "CustomDataset.c=11"
      ],
      "execution_count": null,
      "outputs": []
    },
    {
      "cell_type": "code",
      "metadata": {
        "id": "RF4ucQEYjDFk",
        "colab": {
          "base_uri": "https://localhost:8080/",
          "height": 743
        },
        "outputId": "96d33ac1-29d5-45aa-c567-d8c17ba00d77"
      },
      "source": [
        "interp.plot_confusion_matrix(figsize=(12,12), dpi=60)"
      ],
      "execution_count": null,
      "outputs": [
        {
          "output_type": "display_data",
          "data": {
            "image/png": "[encoded data removed]",
            "text/plain": [
              "<Figure size 720x720 with 1 Axes>"
            ]
          },
          "metadata": {
            "tags": []
          }
        }
      ]
    },
    {
      "cell_type": "code",
      "metadata": {
        "id": "rxiVP3lja6CQ",
        "colab": {
          "base_uri": "https://localhost:8080/",
          "height": 34
        },
        "outputId": "1d4a1c2c-17a3-4651-d09b-82e69a392cae"
      },
      "source": [
        "((10412+4852)/(12212+4852+78))*100"
      ],
      "execution_count": null,
      "outputs": [
        {
          "output_type": "execute_result",
          "data": {
            "text/plain": [
              "89.04445222261113"
            ]
          },
          "metadata": {
            "tags": []
          },
          "execution_count": 74
        }
      ]
    },
    {
      "cell_type": "code",
      "metadata": {
        "id": "N-xN9qLCjMdS",
        "colab": {
          "base_uri": "https://localhost:8080/",
          "height": 71
        },
        "outputId": "7c477e44-69bc-4bc5-d7bd-7219ec1d9bd5"
      },
      "source": [
        "learn.unfreeze()\n",
        "learn.lr_find()"
      ],
      "execution_count": null,
      "outputs": [
        {
          "output_type": "display_data",
          "data": {
            "text/html": [
              ""
            ],
            "text/plain": [
              "<IPython.core.display.HTML object>"
            ]
          },
          "metadata": {
            "tags": []
          }
        },
        {
          "output_type": "stream",
          "text": [
            "/usr/local/lib/python3.6/dist-packages/ipykernel_launcher.py:17: UserWarning: Implicit dimension choice for softmax has been deprecated. Change the call to include dim=X as an argument.\n"
          ],
          "name": "stderr"
        },
        {
          "output_type": "stream",
          "text": [
            "LR Finder is complete, type {learner_name}.recorder.plot() to see the graph.\n"
          ],
          "name": "stdout"
        }
      ]
    }
  ]
}